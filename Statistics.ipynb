{
 "cells": [
  {
   "cell_type": "code",
   "execution_count": 1,
   "id": "8a96c064",
   "metadata": {},
   "outputs": [],
   "source": [
    "import pandas as pd\n",
    "import csv\n",
    "import http"
   ]
  },
  {
   "cell_type": "code",
   "execution_count": 16,
   "id": "9ae20063",
   "metadata": {},
   "outputs": [],
   "source": [
    "# read the fetch_wsj.csv file using pandas\n",
    "df = pd.read_csv(\"fetch_wsj.csv\")\n",
    "# count the number of rows for fetch statistics\n",
    "fetches_attempted = len(df.index)\n",
    "fetches_succeeded = df[df[\"Status\"] < 300].shape[0]\n",
    "fetches_failed = df[df[\"Status\"] > 300].shape[0]\n",
    "# group the rows by Status and count the number of URLs for each status code\n",
    "status_codes = dict(df.groupby(\"Status\").size())"
   ]
  },
  {
   "cell_type": "code",
   "execution_count": 17,
   "id": "7938e78d",
   "metadata": {},
   "outputs": [
    {
     "name": "stdout",
     "output_type": "stream",
     "text": [
      "Total URLs Extracted: 3520895\n",
      "Size Categories: {'less than 1KB': 16, '1KB to less than 10KB': 160, '10KB to less than 100KB': 101, '100KB to less than 1MB': 11982, '1MB or greater': 823}\n",
      "Content Types: {'image/jpeg': 10, 'image/png': 194, 'text/html': 12879}\n"
     ]
    }
   ],
   "source": [
    "with open(\"visit_wsj.csv\", \"r\", encoding=\"UTF-8\") as f:\n",
    "    df = pd.read_csv(f, header=0)\n",
    "\n",
    "total_urls_extracted = df['#Outlinks_found'].sum()\n",
    "\n",
    "size_bins = [0, 1, 10, 100, 1000, float('inf')]\n",
    "size_labels = ['less than 1KB', '1KB to less than 10KB', '10KB to less than 100KB', '100KB to less than 1MB', '1MB or greater']\n",
    "df['Size Category'] = pd.cut(df['Size_KB'], bins=size_bins, labels=size_labels)\n",
    "\n",
    "size_categories = df.groupby('Size Category').size().to_dict()\n",
    "\n",
    "content_types = df.groupby('Content-Type').size().to_dict()\n",
    "\n",
    "print(\"Total URLs Extracted:\", total_urls_extracted)\n",
    "print(\"Size Categories:\", size_categories)\n",
    "print(\"Content Types:\", content_types)"
   ]
  },
  {
   "cell_type": "code",
   "execution_count": 24,
   "id": "9f3b7022",
   "metadata": {},
   "outputs": [],
   "source": [
    "with open(\"urls_wsj.csv\", \"r\", encoding=\"UTF-8\") as f:\n",
    "    df = pd.read_csv(f, header=0)\n",
    "\n",
    "unique_extracted = len(df)\n",
    "unique_within = df['Status'].eq('OK').sum()\n",
    "unique_outside = df['Status'].eq('N_OK').sum()"
   ]
  },
  {
   "cell_type": "code",
   "execution_count": 31,
   "id": "3703484f",
   "metadata": {},
   "outputs": [],
   "source": [
    "\n",
    "# Write statistics to file\n",
    "with open(\"CrawlReport_wsj.txt\", \"w\") as f:\n",
    "    # Write general information\n",
    "    f.write(\"Name: Reem Almijmaj\\n\")\n",
    "    f.write(\"USC ID: 3217747723\\n\")\n",
    "    f.write(\"News site crawled: wsj.com\\n\")\n",
    "    f.write(\"Number of threads: 16\\n\\n\")\n",
    "\n",
    "    # Write outgoing URLs statistics\n",
    "    f.write(\"Outgoing URLs:\\n\")\n",
    "    f.write(\"==============\\n\")\n",
    "    f.write(f\"Total URLs extracted: {total_urls_extracted}\\n\")\n",
    "    f.write(f\"# unique URLs extracted: {df['URL'].nunique()}\\n\")\n",
    "    f.write(f\"# unique URLs within News Site: {df[df['is_news_site'] == True]['URL'].nunique()}\\n\")\n",
    "    f.write(f\"# unique URLs outside News Site: {df[df['is_news_site'] == False]['URL'].nunique()}\\n\\n\")\n",
    "\n",
    "    # Write file size statistics\n",
    "    f.write(\"File Sizes:\\n\")\n",
    "    f.write(\"===========\\n\")\n",
    "    f.write(\"< 1KB: {}\\n\".format(size_categories.get('less than 1KB', 0)))\n",
    "    f.write(\"1KB ~ <10KB: {}\\n\".format(size_categories.get('1KB to less than 10KB', 0)))\n",
    "    f.write(\"10KB ~ <100KB: {}\\n\".format(size_categories.get('10KB to less than 100KB', 0)))\n",
    "    f.write(\"100KB ~ <1MB: {}\\n\".format(size_categories.get('100KB to less than 1MB', 0)))\n",
    "    f.write(\">= 1MB: {}\\n\\n\".format(size_categories.get('1MB or greater', 0)))\n",
    "\n",
    "    # Write content types statistics\n",
    "    f.write(\"Content Types:\\n\")\n",
    "    f.write(\"==============\\n\")\n",
    "    for content, count in sorted(content_types.items()):\n",
    "        f.write(\"{}: {}\\n\".format(content, count))"
   ]
  },
  {
   "cell_type": "code",
   "execution_count": null,
   "id": "7e96d950",
   "metadata": {},
   "outputs": [],
   "source": []
  },
  {
   "cell_type": "code",
   "execution_count": null,
   "id": "6b7f41b7",
   "metadata": {},
   "outputs": [],
   "source": []
  },
  {
   "cell_type": "code",
   "execution_count": null,
   "id": "d4cc1f0f",
   "metadata": {},
   "outputs": [],
   "source": []
  }
 ],
 "metadata": {
  "kernelspec": {
   "display_name": "Python 3 (ipykernel)",
   "language": "python",
   "name": "python3"
  },
  "language_info": {
   "codemirror_mode": {
    "name": "ipython",
    "version": 3
   },
   "file_extension": ".py",
   "mimetype": "text/x-python",
   "name": "python",
   "nbconvert_exporter": "python",
   "pygments_lexer": "ipython3",
   "version": "3.9.13"
  }
 },
 "nbformat": 4,
 "nbformat_minor": 5
}
